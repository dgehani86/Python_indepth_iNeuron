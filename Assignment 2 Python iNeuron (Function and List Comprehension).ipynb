{
 "cells": [
  {
   "cell_type": "markdown",
   "metadata": {},
   "source": [
    "## Assignment 2\n",
    "\n",
    "### Task 1\n",
    "\n",
    "- 1.1 Write a Python Program to implement your own myreduce() function which works exactly like Python's built-in function reduce()\n",
    "\n",
    "\n",
    "- 1.2 Write a Python program to implement your own myfilter() function which works exactly like Python's built-in function filter()"
   ]
  },
  {
   "cell_type": "code",
   "execution_count": 71,
   "metadata": {},
   "outputs": [
    {
     "name": "stdout",
     "output_type": "stream",
     "text": [
      "40\n",
      "-16\n",
      "69120\n"
     ]
    }
   ],
   "source": [
    "# 1.1Write a Python Program to implement your own myreduce() function which works exactly like Python's built-in func reduce()\n",
    "# Answer 1.1\n",
    "\n",
    "l = [12,3,4,5,6,2,8]\n",
    "\n",
    "def myreduce(function,iterable):\n",
    "    ''' (function,iterable), myreduce function will aggregate the values of iterable (list, set, tuple)'''\n",
    "    result = iterable[0]\n",
    "    for i in iterable[1:]:\n",
    "        result = function(result, i)\n",
    "    return result\n",
    "\n",
    "print(myreduce(lambda x,y:x+y,l))\n",
    "print(myreduce(lambda x,y:x-y,l))\n",
    "print(myreduce(lambda x,y:x*y,l))\n",
    "\n",
    "\n"
   ]
  },
  {
   "cell_type": "code",
   "execution_count": 72,
   "metadata": {},
   "outputs": [
    {
     "name": "stdout",
     "output_type": "stream",
     "text": [
      "40\n",
      "-16\n",
      "69120\n"
     ]
    }
   ],
   "source": [
    "#1.1 - other way\n",
    "def reducefun(lst,aggregate='sum'):\n",
    "\n",
    "    if aggregate == 'sum':\n",
    "        n = lst[0]\n",
    "        for x in lst[1:]:\n",
    "            n += x\n",
    "        return n\n",
    "    elif aggregate == 'substract':\n",
    "        n = lst[0]\n",
    "        for x in lst[1:]:\n",
    "            n -= x\n",
    "        return n\n",
    "    elif  aggregate == 'multiply':\n",
    "        n = lst[0]\n",
    "        for x in lst[1:]:\n",
    "            n *= x\n",
    "        return n\n",
    "\n",
    "    \n",
    "print(reducefun(l)) #default aggregate is sum\n",
    "print(reducefun(l,'substract'))\n",
    "print(reducefun(l,'multiply')) \n"
   ]
  },
  {
   "cell_type": "code",
   "execution_count": 87,
   "metadata": {},
   "outputs": [
    {
     "name": "stdout",
     "output_type": "stream",
     "text": [
      "[2, 4, 6, 8, 14]\n",
      "[3, 5, 7, 11, 13]\n",
      "[2, 3, 4, 5, 6, 7, 8]\n"
     ]
    }
   ],
   "source": [
    "# 1.2 Write a Python program to implement your own myfilter() function which works exactly like Python's built-in func filter()\n",
    "#Ans 1.2\n",
    "\n",
    "l2 = [2,3,4,5,6,7,8,11,13,14]\n",
    "\n",
    "def myfilter(function,iterable):\n",
    "    result= []\n",
    "    for x in iterable:\n",
    "        if function(x) == True:\n",
    "            result.append(x)\n",
    "    return result\n",
    "\n",
    "print(myfilter(lambda x: x%2==0,l2))\n",
    "print(myfilter(lambda x: x%2!=0,l2))\n",
    "print(myfilter(lambda x: x<10,l2))\n",
    "                      \n"
   ]
  },
  {
   "cell_type": "markdown",
   "metadata": {},
   "source": [
    "### 2. Implement List comprehensions to produce the following lists.  Write List comprehensions to produce the following Lists\n",
    "\n",
    "- ['A', 'C', 'A', 'D', 'G', 'I', ’L’, ‘ D’]\n",
    "\n",
    "- ['x', 'xx', 'xxx', 'xxxx', 'y', 'yy', 'yyy', 'yyyy', 'z', 'zz', 'zzz', 'zzzz']\n",
    "\n",
    "- ['x', 'y', 'z', 'xx', 'yy', 'zz', 'xx', 'yy', 'zz', 'xxxx', 'yyyy', 'zzzz']\n",
    "\n",
    "- [[2], [3], [4], [3], [4], [5], [4], [5], [6]]\n",
    "\n",
    "- [[2, 3, 4, 5], [3, 4, 5, 6], [4, 5, 6, 7], [5, 6, 7, 8]]\n",
    "\n",
    "- [(1, 1), (2, 1), (3, 1), (1, 2), (2, 2), (3, 2), (1, 3), (2, 3), (3, 3)]\n"
   ]
  },
  {
   "cell_type": "code",
   "execution_count": 156,
   "metadata": {},
   "outputs": [
    {
     "name": "stdout",
     "output_type": "stream",
     "text": [
      "Answer 1 : ['A', 'C', 'A', 'D', 'G', 'I', 'L', 'D']\n",
      "Answer 2 : ['x', 'xx', 'xxx', 'xxxx', 'y', 'yy', 'yyy', 'yyyy', 'z', 'zz', 'zzz', 'zzzz']\n",
      "Answer 3 : ['x', 'y', 'z', 'xx', 'yy', 'zz', 'xxx', 'yyy', 'zzz', 'xxxx', 'yyyy', 'zzzz']\n",
      "Answer 4 : [[2], [3], [4], [3], [4], [5], [4], [5], [6]]\n",
      "Answer 5 : [[2, 3, 4, 5], [3, 4, 5, 6], [4, 5, 6, 7], [5, 6, 7, 8]]\n",
      "Answer 6 : [(1, 1), (2, 1), (3, 1), (1, 2), (2, 2), (3, 2), (1, 3), (2, 3), (3, 3)]\n"
     ]
    }
   ],
   "source": [
    "# 1\n",
    "word = 'ACADGILD'\n",
    "print('Answer 1 :',[alphabet for alphabet in word])\n",
    "\n",
    "#2\n",
    "print('Answer 2 :',[i*num for i in ['x','y','z'] for num in range(1,5)])\n",
    "\n",
    "#3\n",
    "print('Answer 3 :',[num*i for num in range(1,5) for i in ['x','y','z']])\n",
    "\n",
    "#4\n",
    "print('Answer 4 :',[[item+num]for num in range(2,5) for item in range(0,3)])\n",
    "\n",
    "#5\n",
    "print('Answer 5 :',[[item+num for num in range(2,6)] for item in range(0,4)])\n",
    "\n",
    "#6\n",
    "print('Answer 6 :',[(i,j)for j in range(1,4) for i in range(1,4)])"
   ]
  },
  {
   "cell_type": "markdown",
   "metadata": {},
   "source": [
    "### 3. Implement a function longestWord() that takes a list of words and returns the longest one."
   ]
  },
  {
   "cell_type": "code",
   "execution_count": 162,
   "metadata": {},
   "outputs": [
    {
     "name": "stdout",
     "output_type": "stream",
     "text": [
      "longest world is : ravikumarninkitsharmadeepakprasadpandit\n"
     ]
    }
   ],
   "source": [
    "list1= ['ravi','kumar','ninkit','sharma','deepak','prasad','pandit']\n",
    "\n",
    "def longestWord(lst):\n",
    "    newword = ''\n",
    "    for i in lst:\n",
    "        newword += i\n",
    "    return newword\n",
    "\n",
    "print('longest world is :', longestWord(list1))"
   ]
  },
  {
   "cell_type": "markdown",
   "metadata": {},
   "source": [
    "### Task 2:\n",
    "\n",
    "#### 1.1\n",
    "Write a Python Program(with class concepts) to find the area of the triangle using the below\n",
    "formula.\n",
    "\n",
    "- area = (s*(s-a)*(s-b)*(s-c)) ** 0.5\n",
    "\n",
    "Function to take the length of the sides of triangle from user should be defined in the parent class and function to calculate the area should be defined in subclass."
   ]
  },
  {
   "cell_type": "code",
   "execution_count": 299,
   "metadata": {},
   "outputs": [],
   "source": [
    "class triangle:\n",
    "    def __init__(self, a, b, c):\n",
    "        #a,b,c are three side of triangle\n",
    "        self.a = a\n",
    "        self.b = b\n",
    "        self.c = c\n",
    "    \n",
    "    def __str__(self):\n",
    "        return 'three sides of triangles are : '+ str(self.a)+ ','+ str(self.b)+ ','+str(self.c)\n",
    "    \n",
    "class area_triangle(triangle):\n",
    "    def __init__(self, *args):\n",
    "        super(area_triangle,self).__init__(*args)\n",
    "        \n",
    "    def area(self):\n",
    "        s = (self.a+self.b+self.c)/2\n",
    "        print(s)\n",
    "        # calculate the area\n",
    "        Area = (s*(s-self.a)*(s-self.b)*(s-self.c)) ** 0.5\n",
    "        return 'area of triangle %0.2f' %Area\n",
    "    "
   ]
  },
  {
   "cell_type": "code",
   "execution_count": 302,
   "metadata": {},
   "outputs": [
    {
     "name": "stdout",
     "output_type": "stream",
     "text": [
      "17.5\n"
     ]
    },
    {
     "data": {
      "text/plain": [
       "'area of triangle 57.00'"
      ]
     },
     "execution_count": 302,
     "metadata": {},
     "output_type": "execute_result"
    }
   ],
   "source": [
    "d = area_triangle(10,12,13)\n",
    "d.area()"
   ]
  },
  {
   "cell_type": "markdown",
   "metadata": {},
   "source": [
    "#### 1.2 \n",
    "####  Write a function filter_long_words() that takes a list of words and an integer n and returns the list of words that are longer than n."
   ]
  },
  {
   "cell_type": "code",
   "execution_count": 223,
   "metadata": {},
   "outputs": [
    {
     "data": {
      "text/plain": [
       "['ravishankarprasad', 'venugopal', 'chinnaswamy']"
      ]
     },
     "execution_count": 223,
     "metadata": {},
     "output_type": "execute_result"
    }
   ],
   "source": [
    "#Ans 1.2\n",
    "\n",
    "def filter_long_words(lst,n):\n",
    "    ''' list of words followed by integer n, output will be list of words where length of word is above the integer'''\n",
    "    l = []\n",
    "    for i in lst:\n",
    "        if len(i) >n:\n",
    "            l.append(i)\n",
    "    return l\n",
    "\n",
    "\n",
    "list1= ['ravi','kumar','ninkit','ravishankarprasad','deepak','venugopal','chinnaswamy']\n",
    "\n",
    "filter_long_words(list1,6)\n"
   ]
  },
  {
   "cell_type": "markdown",
   "metadata": {},
   "source": [
    "#### 2.1\n",
    "####  Write a Python program using function concept that maps list of words into a list of integers representing the lengths of the corresponding words."
   ]
  },
  {
   "cell_type": "code",
   "execution_count": 222,
   "metadata": {},
   "outputs": [
    {
     "name": "stdout",
     "output_type": "stream",
     "text": [
      "method1 output : [4, 5, 6, 17, 6, 9, 11]\n",
      "method2 output : [4, 5, 6, 17, 6, 9, 11]\n"
     ]
    }
   ],
   "source": [
    "list1= ['ravi','kumar','ninkit','ravishankarprasad','deepak','venugopal','chinnaswamy']\n",
    "\n",
    "\n",
    "#Method 1:\n",
    "method1 = list(map(lambda x: len(x), list1))\n",
    "\n",
    "print('method1 output :', method1)\n",
    "\n",
    "\n",
    "#Method 2:\n",
    "\n",
    "def wordlen(x):\n",
    "    return len(x)\n",
    "print('method2 output :',list(map(wordlen, list1)))\n",
    "\n",
    "   "
   ]
  },
  {
   "cell_type": "markdown",
   "metadata": {},
   "source": [
    "####  2.2 Write a Python function which takes a character (i.e. a string of length 1) and returns True if it is a vowel, False otherwise."
   ]
  },
  {
   "cell_type": "code",
   "execution_count": 235,
   "metadata": {},
   "outputs": [
    {
     "name": "stdout",
     "output_type": "stream",
     "text": [
      "False\n",
      "True\n"
     ]
    }
   ],
   "source": [
    "def vowel(char):\n",
    "    '''Enter a single character to check if this is a vowel or not, returns True if it is a vowel, False otherwise'''\n",
    "    if char.lower() in ['a','e','i','o','u']:\n",
    "        return True\n",
    "    else:\n",
    "        return False\n",
    "    \n",
    "\n",
    "print(vowel('b'))\n",
    "print(vowel('E'))"
   ]
  },
  {
   "cell_type": "code",
   "execution_count": 6,
   "metadata": {},
   "outputs": [],
   "source": [
    "## Additional\n",
    "\n",
    "\n",
    "def fibonocci(num):\n",
    "    '''Finonccai sequence using generator \n",
    "    '''\n",
    "    a = 1\n",
    "    b = 1\n",
    "    for i in range(num):\n",
    "        yield a\n",
    "        (a,b) = (b,a+b)\n",
    "        "
   ]
  },
  {
   "cell_type": "code",
   "execution_count": 7,
   "metadata": {},
   "outputs": [
    {
     "name": "stdout",
     "output_type": "stream",
     "text": [
      "1\n",
      "1\n",
      "2\n",
      "3\n",
      "5\n",
      "8\n",
      "13\n",
      "21\n",
      "34\n",
      "55\n"
     ]
    }
   ],
   "source": [
    "for i in fibonocci(10):\n",
    "    print (i)"
   ]
  }
 ],
 "metadata": {
  "kernelspec": {
   "display_name": "Python 3",
   "language": "python",
   "name": "python3"
  },
  "language_info": {
   "codemirror_mode": {
    "name": "ipython",
    "version": 3
   },
   "file_extension": ".py",
   "mimetype": "text/x-python",
   "name": "python",
   "nbconvert_exporter": "python",
   "pygments_lexer": "ipython3",
   "version": "3.6.5"
  }
 },
 "nbformat": 4,
 "nbformat_minor": 2
}
